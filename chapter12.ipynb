{
 "cells": [
  {
   "attachments": {},
   "cell_type": "markdown",
   "metadata": {},
   "source": [
    "### JSON parsing\n"
   ]
  },
  {
   "cell_type": "code",
   "execution_count": null,
   "metadata": {},
   "outputs": [],
   "source": [
    "import json\n",
    "from urllib.request import urlopen\n",
    "\n",
    "\n",
    "def getCountry(ipAddress: str):\n",
    "    response = urlopen('http://freegeoip.net/json/' +\n",
    "                       ipAddress).read().decode('utf-8')\n",
    "    responseJson = json.loads(response)\n",
    "    return responseJson.get('country_code')\n",
    "\n",
    "\n",
    "print(getCountry('50.78.253.58'))"
   ]
  },
  {
   "cell_type": "code",
   "execution_count": 5,
   "metadata": {},
   "outputs": [
    {
     "name": "stdout",
     "output_type": "stream",
     "text": [
      "United States\n"
     ]
    }
   ],
   "source": [
    "import json\n",
    "from urllib.request import urlopen\n",
    "\n",
    "\n",
    "def getCountry(ipAddress: str) -> (str | None):\n",
    "    response = urlopen(f'https://ipapi.co/{ipAddress}/json').read().decode(\n",
    "        'utf-8')\n",
    "    responseJson = json.loads(response)\n",
    "    return responseJson.get('country_name')\n",
    "\n",
    "\n",
    "print(getCountry('50.78.253.58'))"
   ]
  },
  {
   "cell_type": "code",
   "execution_count": null,
   "metadata": {},
   "outputs": [],
   "source": [
    "import json\n",
    "\n",
    "jsonString = '{\"arrayOfNums\":[{\"number\":0},{\"number\":1},{\"number\":2}],\"arrayOfFruits\":[{\"fruit\":\"apple\"},{\"fruit\":\"banana\"},{\"fruit\":\"pear\"}]}'\n",
    "jsonObj = json.loads(jsonString)\n",
    "\n",
    "print(jsonObj.get('arrayOfNums'))\n",
    "print(jsonObj.get('arrayOfNums')[1])\n",
    "print(\n",
    "    jsonObj.get('arrayOfNums')[1].get('number') +\n",
    "    jsonObj.get('arrayOfNums')[2].get('number'))\n",
    "print(jsonObj.get('arrayOfFruits')[2].get('fruit'))"
   ]
  },
  {
   "attachments": {},
   "cell_type": "markdown",
   "metadata": {},
   "source": [
    "### Combining APIs with other sources of data\n"
   ]
  },
  {
   "cell_type": "code",
   "execution_count": null,
   "metadata": {},
   "outputs": [],
   "source": [
    "from urllib.request import urlopen\n",
    "from bs4 import BeautifulSoup, ResultSet\n",
    "from typing import Any\n",
    "import json\n",
    "import datetime\n",
    "import random\n",
    "import re\n",
    "\n",
    "random.seed(datetime.datetime.now())\n",
    "\n",
    "\n",
    "def getLinks(articleUrl: str) -> ResultSet[Any]:\n",
    "    html = urlopen('http://en.wikipedia.org{}'.format(articleUrl))\n",
    "    bs = BeautifulSoup(html, 'html.parser')\n",
    "\n",
    "    return bs.find('div', {\n",
    "        'id': 'bodyContent'\n",
    "    }).findAll('a', href=re.compile('^(/wiki/)((?!:).)*$'))\n",
    "\n",
    "\n",
    "def getHistoryIPs(pageUrl: str) -> set:\n",
    "    # This is the format of revision history pages:\n",
    "    # http://en.wikipedia.org/w/index.php?title=Title_in_URL&action=history\n",
    "    pageUrl = pageUrl.replace('/wiki/', '')\n",
    "    historyUrl = 'http://en.wikipedia.org/w/index.php?title={}&action=history'.format(\n",
    "        pageUrl)\n",
    "\n",
    "    print('history url is: {}'.format(historyUrl))\n",
    "    html = urlopen(historyUrl)\n",
    "    bs = BeautifulSoup(html, 'html.parser')\n",
    "    # finds only links whose class is \"mw-anonuserlink\" and\n",
    "    # have IP addresses instead of usernames\n",
    "    ipAddresses = bs.findAll('a', {'class': 'mw-anonuserlink'})\n",
    "    addressList = set()\n",
    "    \n",
    "    for ipAddress in ipAddresses:\n",
    "        addressList.add(ipAddress.get_text())\n",
    "        \n",
    "    return addressList\n",
    "\n",
    "\n",
    "def getCountry(ipAddress: str) -> (str | None):\n",
    "    try:\n",
    "        response = urlopen(f'https://ipapi.co/{ipAddress}/json').read().decode(\n",
    "            'utf-8')\n",
    "    except:\n",
    "        return None\n",
    "    responseJson = json.loads(response)\n",
    "    return responseJson.get('country_name')\n",
    "\n",
    "\n",
    "links = getLinks('/wiki/Python_(programming_language)')\n",
    "while (len(links) > 0):\n",
    "    for link in links:\n",
    "        print('-' * 20)\n",
    "        historyIPs = getHistoryIPs(link.attrs['href'])\n",
    "        for historyIP in historyIPs:\n",
    "            print(historyIP)\n",
    "            \n",
    "    newLink = links[random.randint(0, len(links) - 1)].attrs['href']\n",
    "    links = getLinks(newLink)\n",
    "    "
   ]
  }
 ],
 "metadata": {
  "kernelspec": {
   "display_name": "venv",
   "language": "python",
   "name": "python3"
  },
  "language_info": {
   "codemirror_mode": {
    "name": "ipython",
    "version": 3
   },
   "file_extension": ".py",
   "mimetype": "text/x-python",
   "name": "python",
   "nbconvert_exporter": "python",
   "pygments_lexer": "ipython3",
   "version": "3.11.8"
  },
  "orig_nbformat": 4
 },
 "nbformat": 4,
 "nbformat_minor": 2
}
