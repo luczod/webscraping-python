{
 "cells": [
  {
   "attachments": {},
   "cell_type": "markdown",
   "metadata": {},
   "source": [
    "### Avoiding pitfalls in scraping\n"
   ]
  },
  {
   "cell_type": "code",
   "execution_count": null,
   "metadata": {},
   "outputs": [],
   "source": [
    "import requests\n",
    "from bs4 import BeautifulSoup\n",
    "\n",
    "session = requests.Session()\n",
    "\n",
    "headers = {\n",
    "    'User-Agent':\n",
    "    'Mozilla/5.0 (Macintosh; Intel Mac OS X 10_9_5)'\n",
    "    'AppleWebKit 537.36 (KHTML, like Gecko) Chrome',\n",
    "    'Accept':\n",
    "    'text/html,application/xhtml+xml,application/xml;'\n",
    "    'q=0.9,image/webp,*/*;q=0.8'\n",
    "}\n",
    "\n",
    "url = 'https://www.whatismybrowser.com/'\\\n",
    "    'developers/what-http-headers-is-my-browser-sending'\n",
    "\n",
    "req = session.get(url, headers=headers)\n",
    "bs = BeautifulSoup(req.text, 'html.parser')\n",
    "print(bs.find('table', {'class': 'table-striped'}).get_text)"
   ]
  },
  {
   "attachments": {},
   "cell_type": "markdown",
   "metadata": {},
   "source": [
    "### Dealing with Cookies in JavaScript\n"
   ]
  },
  {
   "cell_type": "code",
   "execution_count": null,
   "metadata": {},
   "outputs": [],
   "source": [
    "from selenium import webdriver\n",
    "\n",
    "# driver = webdriver.PhantomJS(executable_path='<Path to Phantom JS>')\n",
    "driver = webdriver.Chrome(executable_path='<Path to chrome>')\n",
    "driver.get('http://pythonscraping.com')\n",
    "driver.implicitly_wait(1)\n",
    "print(driver.get_cookies())"
   ]
  },
  {
   "cell_type": "code",
   "execution_count": null,
   "metadata": {},
   "outputs": [],
   "source": [
    "from selenium import webdriver\n",
    "\n",
    "# phantomPath = '<Path to Phantom JS>'\n",
    "# driver = webdriver.PhantomJS(executable_path=phantomPath)\n",
    "# page 251\n",
    "chromePath = '<Path to chrome>'\n",
    "driver = webdriver.Chrome(executable_path=chromePath)\n",
    "driver.get('http://pythonscraping.com')\n",
    "driver.implicitly_wait(1)\n",
    "savedCookies = driver.get_cookies()\n",
    "print(savedCookies)\n",
    "\n",
    "driver2 = webdriver.Chrome(executable_path=chromePath)\n",
    "driver2.get('http://pythonscraping.com')\n",
    "driver2.delete_all_cookies()\n",
    "\n",
    "for cookie in savedCookies:\n",
    "    if not cookie['domain'].startswith('.'):\n",
    "        cookie['domain'] = '.{}'.format(cookie['domain'])\n",
    "    driver2.add_cookie(cookie)\n",
    "\n",
    "driver2.get('http://pythonscraping.com')\n",
    "driver.implicitly_wait(1)\n",
    "print(driver2.get_cookies())"
   ]
  },
  {
   "attachments": {},
   "cell_type": "markdown",
   "metadata": {},
   "source": [
    "### Honeypot - Hidden Elements\n"
   ]
  },
  {
   "cell_type": "code",
   "execution_count": null,
   "metadata": {},
   "outputs": [],
   "source": [
    "from selenium import webdriver as wd\n",
    "from selenium.webdriver.common.by import By\n",
    "\n",
    "driver = wd.Chrome()\n",
    "\n",
    "driver.get('http://pythonscraping.com/pages/itsatrap.html')\n",
    "\n",
    "links = driver.find_elements(By.TAG_NAME, 'a')\n",
    "\n",
    "for link in links:\n",
    "    if not link.is_displayed():\n",
    "        print('The link {} is a trap'.format(link.get_attribute('href')))\n",
    "\n",
    "fields = driver.find_elements(By.TAG_NAME, 'input')\n",
    "\n",
    "for field in fields:\n",
    "    if not field.is_displayed():\n",
    "        print('Do not change value of {}'.format(field.get_attribute('name')))"
   ]
  }
 ],
 "metadata": {
  "kernelspec": {
   "display_name": "venv",
   "language": "python",
   "name": "python3"
  },
  "language_info": {
   "codemirror_mode": {
    "name": "ipython",
    "version": 3
   },
   "file_extension": ".py",
   "mimetype": "text/x-python",
   "name": "python",
   "nbconvert_exporter": "python",
   "pygments_lexer": "ipython3",
   "version": "3.11.8"
  },
  "orig_nbformat": 4
 },
 "nbformat": 4,
 "nbformat_minor": 2
}
