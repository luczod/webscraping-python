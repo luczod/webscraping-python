{
 "cells": [
  {
   "attachments": {},
   "cell_type": "markdown",
   "metadata": {},
   "source": [
    "### Testing your website with scrapers\n"
   ]
  },
  {
   "cell_type": "code",
   "execution_count": null,
   "metadata": {},
   "outputs": [],
   "source": [
    "import unittest\n",
    "\n",
    "\n",
    "class TestAddition(unittest.TestCase):\n",
    "    def setUp(self):\n",
    "        print('Setting up the test')\n",
    "\n",
    "    def tearDown(self):\n",
    "        print('Tearing down the test')\n",
    "\n",
    "    def test_twoPlusTwo(self):\n",
    "        total = 2+2\n",
    "        self.assertEqual(4, total)\n",
    "\n",
    "# python\n",
    "# if __name__ == '__main__':\n",
    "#     unittest.main()\n",
    "\n",
    "# jupyter\n",
    "# resets memory and destroys all variables\n",
    "if __name__ == '__main__':\n",
    "    unittest.main(argv=[''], exit=False)\n",
    "    %reset "
   ]
  },
  {
   "cell_type": "code",
   "execution_count": null,
   "metadata": {},
   "outputs": [],
   "source": [
    "from urllib.request import urlopen\n",
    "from bs4 import BeautifulSoup\n",
    "import unittest\n",
    "\n",
    "\n",
    "class TestWikipedia(unittest.TestCase):\n",
    "    bs = None\n",
    "\n",
    "    def setUpClass():\n",
    "        # attention\n",
    "        url = 'http://en.wikipedia.org/wiki/Monty_Python'\n",
    "        TestWikipedia.bs = BeautifulSoup(urlopen(url), 'html.parser')\n",
    "\n",
    "    def test_titleText(self):\n",
    "        pageTitle = TestWikipedia.bs.find('h1').get_text()\n",
    "        self.assertEqual('Monty Python', pageTitle)\n",
    "\n",
    "    def test_contentExists(self):\n",
    "        content = TestWikipedia.bs.find('div', {'id': 'mw-content-text'})\n",
    "        self.assertIsNotNone(content)\n",
    "\n",
    "\n",
    "\n",
    "if __name__ == '__main__':\n",
    "    unittest.main(argv=[''], exit=False)\n",
    "    %reset "
   ]
  },
  {
   "cell_type": "code",
   "execution_count": null,
   "metadata": {},
   "outputs": [],
   "source": [
    "from urllib.request import urlopen\n",
    "from bs4 import BeautifulSoup\n",
    "import unittest\n",
    "import re\n",
    "import random\n",
    "from urllib.parse import unquote\n",
    "\n",
    "\n",
    "class TestWikipedia(unittest.TestCase):\n",
    "\n",
    "    def test_PageProperties(self):\n",
    "        self.url = 'http://en.wikipedia.org/wiki/Monty_Python'\n",
    "        # Test the first 10 pages found\n",
    "        for i in range(1, 10):\n",
    "            self.bs = BeautifulSoup(urlopen(self.url), 'html.parser')\n",
    "            titles = self.titleMatchesURL()\n",
    "            self.assertEqual(titles[0], titles[1])\n",
    "            self.assertTrue(self.contentExists())\n",
    "            self.url = self.getNextLink()\n",
    "        print('Done!')\n",
    "\n",
    "    def titleMatchesURL(self) -> list[str]:\n",
    "        pageTitle = self.bs.find('h1').get_text()\n",
    "        urlTitle = self.url[(self.url.index('/wiki/') + 6):]\n",
    "        urlTitle = urlTitle.replace('_', ' ')\n",
    "        urlTitle = unquote(urlTitle)\n",
    "        return [pageTitle.lower(), urlTitle.lower()]\n",
    "\n",
    "    def contentExists(self) -> bool:\n",
    "        content = self.bs.find('div', {'id': 'mw-content-text'})\n",
    "        if content is not None:\n",
    "            return True\n",
    "        return False\n",
    "\n",
    "    def getNextLink(self) -> str:\n",
    "        # Returns a random link from the page, using the technique shown in Chapter 3\n",
    "        links = self.bs.find('div', {\n",
    "            'id': 'bodyContent'\n",
    "        }).find_all('a', href=re.compile('^(/wiki/)((?!:).)*$'))\n",
    "        randomLink = random.SystemRandom().choice(links)\n",
    "        return 'https://wikipedia.org{}'.format(randomLink.attrs['href'])\n",
    "\n",
    "if __name__ == '__main__':\n",
    "    unittest.main(argv=[''], exit=False)\n",
    "    %reset "
   ]
  },
  {
   "attachments": {},
   "cell_type": "markdown",
   "metadata": {},
   "source": [
    "### Interacting with the website\n"
   ]
  },
  {
   "cell_type": "code",
   "execution_count": null,
   "metadata": {},
   "outputs": [],
   "source": [
    "from selenium import webdriver\n",
    "from selenium.webdriver.remote.webelement import WebElement\n",
    "from selenium.webdriver.common.keys import Keys\n",
    "from selenium.webdriver import ActionChains\n",
    "\n",
    "driver = webdriver.Chrome(executable_path='<Path to chrome>')\n",
    "driver.get('http://pythonscraping.com/pages/files/form.html')\n",
    "\n",
    "firstnameField = driver.find_element_by_name('firstname')\n",
    "lastnameField = driver.find_element_by_name('lastname')\n",
    "submitButton = driver.find_element_by_id('submit')\n",
    "\n",
    "### METHOD 1 ###\n",
    "firstnameField.send_keys('Ryan')\n",
    "lastnameField.send_keys('Mitchell')\n",
    "submitButton.click()\n",
    "\n",
    "### METHOD 2 ###\n",
    "actions = ActionChains(driver).click(firstnameField).send_keys('John').click(\n",
    "    lastnameField).send_keys('Wayne').send_keys(Keys.RETURN)\n",
    "actions.perform()\n",
    "\n",
    "print(driver.find_element_by_tag_name('body').text)\n",
    "driver.close()"
   ]
  },
  {
   "attachments": {},
   "cell_type": "markdown",
   "metadata": {},
   "source": [
    "### drag-and-drop\n"
   ]
  },
  {
   "cell_type": "code",
   "execution_count": null,
   "metadata": {},
   "outputs": [],
   "source": [
    "from selenium import webdriver\n",
    "from selenium.webdriver.remote.webelement import WebElement\n",
    "from selenium.webdriver import ActionChains\n",
    "\n",
    "driver = webdriver.Chrome(executable_path='<Path to chrome>')\n",
    "driver.get('http://pythonscraping.com/pages/files/form.html')\n",
    "\n",
    "print(driver.find_element_by_id('message').text)\n",
    "element = driver.find_element_by_id('draggable')\n",
    "target = driver.find_element_by_id('div2')\n",
    "actions = ActionChains(driver)\n",
    "actions.drag_and_drop(element, target).perform()\n",
    "print(driver.find_element_by_id('message').text)"
   ]
  },
  {
   "attachments": {},
   "cell_type": "markdown",
   "metadata": {},
   "source": [
    "### Capturing Screenshots\n"
   ]
  },
  {
   "cell_type": "code",
   "execution_count": null,
   "metadata": {},
   "outputs": [],
   "source": [
    "from selenium import webdriver\n",
    "from selenium.webdriver.remote.webelement import WebElement\n",
    "from selenium.webdriver import ActionChains\n",
    "\n",
    "driver = webdriver.Chrome(executable_path='<Path to chrome>')\n",
    "driver.get('http://pythonscraping.com/pages/files/form.html')\n",
    "\n",
    "driver.get_screenshot_as_file('tmp/pythonscraping.png')"
   ]
  },
  {
   "attachments": {},
   "cell_type": "markdown",
   "metadata": {},
   "source": [
    "### unittest or Selenium?\n"
   ]
  },
  {
   "cell_type": "code",
   "execution_count": null,
   "metadata": {},
   "outputs": [],
   "source": [
    "from selenium import webdriver as wd\n",
    "from selenium.webdriver.common.by import By\n",
    "from selenium.webdriver import ActionChains\n",
    "import unittest\n",
    "\n",
    "chrome_options = wd.ChromeOptions()\n",
    "chrome_options.add_argument('--headless')\n",
    "\n",
    "class TestDragAndDrop(unittest.TestCase):\n",
    "    driver = None\n",
    "\n",
    "    def setUp(self):\n",
    "        self.driver = wd.Chrome(options=chrome_options)\n",
    "        url = 'http://pythonscraping.com/pages/javascript/draggableDemo.html'\n",
    "        self.driver.get(url)\n",
    "\n",
    "    def tearDown(self):\n",
    "        print(\"Tearing down the test\")\n",
    "\n",
    "    def test_drag(self):\n",
    "        element = self.driver.find_element(By.ID,'draggable')\n",
    "        target = self.driver.find_element(By.ID,'div2')\n",
    "        actions = ActionChains(self.driver)\n",
    "        actions.drag_and_drop(element, target).perform()\n",
    "        self.assertEqual('You are definitely not a bot!',\n",
    "                         self.driver.find_element(By.ID,'message').text)\n",
    "\n",
    "if __name__ == '__main__':\n",
    "    unittest.main(argv=[''], exit=False)\n",
    "    %reset "
   ]
  }
 ],
 "metadata": {
  "kernelspec": {
   "display_name": "venv",
   "language": "python",
   "name": "python3"
  },
  "language_info": {
   "codemirror_mode": {
    "name": "ipython",
    "version": 3
   },
   "file_extension": ".py",
   "mimetype": "text/x-python",
   "name": "python",
   "nbconvert_exporter": "python",
   "pygments_lexer": "ipython3",
   "version": "3.11.8"
  },
  "orig_nbformat": 4
 },
 "nbformat": 4,
 "nbformat_minor": 2
}
