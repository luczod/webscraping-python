{
 "cells": [
  {
   "attachments": {},
   "cell_type": "markdown",
   "metadata": {},
   "source": [
    "### Data cleansing\n"
   ]
  },
  {
   "cell_type": "code",
   "execution_count": null,
   "metadata": {},
   "outputs": [],
   "source": [
    "from urllib.request import urlopen\n",
    "from bs4 import BeautifulSoup\n",
    "import re\n",
    "\n",
    "\n",
    "def getNgrams(content: str, n: str) -> list[str]:\n",
    "    content = re.sub('\\n|[[\\d+\\]]', ' ', content)\n",
    "    content = bytes(content, 'UTF-8')\n",
    "    content = content.decode('ascii', 'ignore')\n",
    "    content = content.split(' ')\n",
    "    content = [word for word in content if word != '']\n",
    "    output = []\n",
    "    \n",
    "    for i in range(len(content) - n + 1):\n",
    "        output.append(content[i:i + n])\n",
    "        \n",
    "    return output\n",
    "\n",
    "\n",
    "html = urlopen('http://en.wikipedia.org/wiki/Python_(programming_language)')\n",
    "bs = BeautifulSoup(html, 'html.parser')\n",
    "content = bs.find('div', {'id': 'mw-content-text'}).get_text()\n",
    "ngrams = getNgrams(content, 2)\n",
    "print(ngrams)\n",
    "print('2-grams count is: ' + str(len(ngrams)))"
   ]
  },
  {
   "attachments": {},
   "cell_type": "markdown",
   "metadata": {},
   "source": [
    "### Data normalization\n"
   ]
  },
  {
   "cell_type": "code",
   "execution_count": null,
   "metadata": {},
   "outputs": [],
   "source": [
    "import string\n",
    "from urllib.request import urlopen\n",
    "from bs4 import BeautifulSoup\n",
    "from collections import Counter\n",
    "import re\n",
    "\n",
    "\n",
    "def cleanSentence(sentence: str) -> list[str]:\n",
    "    sentence = sentence.split(' ')\n",
    "    sentence = [\n",
    "        word.strip(string.punctuation + string.whitespace) for word in sentence\n",
    "    ]\n",
    "    sentence = [\n",
    "        word for word in sentence\n",
    "        if len(word) > 1 or (word.lower() == 'a' or word.lower() == 'i')\n",
    "    ]\n",
    "    return sentence\n",
    "\n",
    "\n",
    "def cleanInput(content: str) -> list[list[str]]:\n",
    "    content = re.sub('\\n|[[\\d+\\]]', ' ', content)\n",
    "    content = bytes(content, \"UTF-8\")\n",
    "    content = content.decode(\"ascii\", \"ignore\")\n",
    "    sentences = content.split('. ')\n",
    "    return [cleanSentence(sentence) for sentence in sentences]\n",
    "\n",
    "\n",
    "def getNgramsFromSentence(content: str, n: int) -> list[str]:\n",
    "    output = []\n",
    "    for i in range(len(content) - n + 1):\n",
    "        output.append(content[i:i + n])\n",
    "    return output\n",
    "\n",
    "\n",
    "def getNgrams(content: str, n: int) -> Counter:\n",
    "    content = cleanInput(content)\n",
    "    ngrams = Counter()\n",
    "    for sentence in content:\n",
    "        newNgrams = [\n",
    "            ' '.join(ngram) for ngram in getNgramsFromSentence(sentence, 2)\n",
    "        ]\n",
    "        ngrams.update(newNgrams)\n",
    "    return (ngrams)"
   ]
  }
 ],
 "metadata": {
  "kernelspec": {
   "display_name": "venv",
   "language": "python",
   "name": "python3"
  },
  "language_info": {
   "codemirror_mode": {
    "name": "ipython",
    "version": 3
   },
   "file_extension": ".py",
   "mimetype": "text/x-python",
   "name": "python",
   "nbconvert_exporter": "python",
   "pygments_lexer": "ipython3",
   "version": "3.11.8"
  },
  "orig_nbformat": 4
 },
 "nbformat": 4,
 "nbformat_minor": 2
}
