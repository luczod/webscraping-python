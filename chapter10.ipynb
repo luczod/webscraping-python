{
 "cells": [
  {
   "attachments": {},
   "cell_type": "markdown",
   "metadata": {},
   "source": [
    "### Tracking forms and logins\n"
   ]
  },
  {
   "cell_type": "code",
   "execution_count": null,
   "metadata": {},
   "outputs": [],
   "source": [
    "import requests\n",
    "\n",
    "params = {'firstname': 'Ryan', 'lastname': 'Mitchell'}\n",
    "res = requests.post(\"http://pythonscraping.com/pages/processing.php\",\n",
    "                    data=params)\n",
    "\n",
    "print(res.text)"
   ]
  },
  {
   "attachments": {},
   "cell_type": "markdown",
   "metadata": {},
   "source": [
    "### Submitting files and images\n"
   ]
  },
  {
   "cell_type": "code",
   "execution_count": null,
   "metadata": {},
   "outputs": [],
   "source": [
    "import requests\n",
    "\n",
    "files = {'uploadFile': open('files/python.png', 'rb')}\n",
    "res = requests.post('http://pythonscraping.com/pages/processing2.php',\n",
    "                    files=files)\n",
    "print(res.text)"
   ]
  },
  {
   "attachments": {},
   "cell_type": "markdown",
   "metadata": {},
   "source": [
    "### Logins and cookies\n"
   ]
  },
  {
   "cell_type": "code",
   "execution_count": null,
   "metadata": {},
   "outputs": [],
   "source": [
    "import requests\n",
    "\n",
    "params = {'username': 'john wayne', 'password': 'password'}\n",
    "res = requests.post('http://pythonscraping.com/pages/cookies/welcome.php',\n",
    "                    params)\n",
    "print('Cookie is set to:')\n",
    "print(res.cookies)\n",
    "print(res.cookies.get_dict())\n",
    "print('Going to profile page...')\n",
    "res = requests.get('http://pythonscraping.com/pages/cookies/profile.php',\n",
    "                   cookies=res.cookies)\n",
    "print(res.text)"
   ]
  },
  {
   "attachments": {},
   "cell_type": "markdown",
   "metadata": {},
   "source": [
    "### Session\n"
   ]
  },
  {
   "cell_type": "code",
   "execution_count": null,
   "metadata": {},
   "outputs": [],
   "source": [
    "import requests\n",
    "\n",
    "session = requests.Session()\n",
    "params = {'username': 'Robert the Bruce', 'password': 'password'}\n",
    "s = session.post('http://pythonscraping.com/pages/cookies/welcome.php', params)\n",
    "\n",
    "print('Cookie is set to:')\n",
    "print(s.cookies.get_dict())\n",
    "print('Going to profile page...')\n",
    "s = session.get('http://pythonscraping.com/pages/cookies/profile.php')\n",
    "print(s.text)"
   ]
  },
  {
   "attachments": {},
   "cell_type": "markdown",
   "metadata": {},
   "source": [
    "### HTTP basic authentication\n"
   ]
  },
  {
   "cell_type": "code",
   "execution_count": 11,
   "metadata": {},
   "outputs": [],
   "source": [
    "import requests\n",
    "from requests.auth import HTTPBasicAuth\n",
    "\n",
    "auth = HTTPBasicAuth('ryan', 'password')\n",
    "res = requests.post(url='http://pythonscraping.com/pages/auth/login.php',\n",
    "                    auth=auth)\n",
    "print(res.text)"
   ]
  }
 ],
 "metadata": {
  "kernelspec": {
   "display_name": "venv",
   "language": "python",
   "name": "python3"
  },
  "language_info": {
   "codemirror_mode": {
    "name": "ipython",
    "version": 3
   },
   "file_extension": ".py",
   "mimetype": "text/x-python",
   "name": "python",
   "nbconvert_exporter": "python",
   "pygments_lexer": "ipython3",
   "version": "3.11.8"
  },
  "orig_nbformat": 4
 },
 "nbformat": 4,
 "nbformat_minor": 2
}
